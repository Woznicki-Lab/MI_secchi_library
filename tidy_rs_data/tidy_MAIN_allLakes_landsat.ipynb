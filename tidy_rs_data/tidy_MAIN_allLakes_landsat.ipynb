{
  "nbformat": 4,
  "nbformat_minor": 0,
  "metadata": {
    "colab": {
      "provenance": []
    },
    "kernelspec": {
      "name": "python3",
      "display_name": "Python 3"
    },
    "language_info": {
      "name": "python"
    }
  },
  "cells": [
    {
      "cell_type": "markdown",
      "source": [
        "# Tidy data"
      ],
      "metadata": {
        "id": "A5LjBB5HECZQ"
      }
    },
    {
      "cell_type": "code",
      "execution_count": null,
      "metadata": {
        "id": "jHsvHosYD8og"
      },
      "outputs": [],
      "source": [
        "\n",
        "import os\n",
        "from google.colab import files\n",
        "\n",
        "import pandas as pd\n",
        "import altair as alt\n",
        "import numpy as np\n",
        "import io\n",
        "from google.colab import data_table\n",
        "data_table.enable_dataframe_formatter()"
      ]
    },
    {
      "cell_type": "code",
      "source": [
        "uploaded = files.upload()\n",
        "df = pd.read_csv(io.BytesIO(uploaded['MAIN_all_lakes_zstats1_jrc50.csv']))"
      ],
      "metadata": {
        "id": "ENACN4XjQV69"
      },
      "execution_count": null,
      "outputs": []
    },
    {
      "cell_type": "code",
      "source": [
        "import datetime\n",
        "from pandas.tseries.offsets import Day\n",
        "test = df.melt(['lagoslakei'], var_name = \"imageID\", value_name = \"values\")\n",
        "test = test.dropna()\n",
        "test[[\"delete\", \"satellite\", \"pathrow\", \"date\", \"band\"]] = test[\"imageID\"].str.split('_', expand=True)\n",
        "test = test.drop(['delete', 'imageID'], axis=1)\n",
        "test[\"date\"] = pd.to_datetime(test[\"date\"], format='%Y%m%d')\n",
        "test = test.pivot(\n",
        "    index = ['lagoslakei', 'satellite', 'pathrow', 'date'],\n",
        "    columns = 'band',\n",
        "    values = 'values').reset_index()\n",
        "\n",
        "\n",
        "data_table.DataTable(test, num_rows_per_page=10)"
      ],
      "metadata": {
        "id": "nuMIeFjHgFk8"
      },
      "execution_count": null,
      "outputs": []
    },
    {
      "cell_type": "code",
      "source": [
        "uploaded2 = files.upload()\n",
        "df2 = pd.read_csv(io.BytesIO(uploaded2['MAIN_all_lakes_zstats2_jrc50.csv']))\n",
        "\n",
        "test2 = df2.melt(['lagoslakei'], var_name = \"imageID\", value_name = \"values\")\n",
        "test2 = test2.dropna()\n",
        "test2[[\"delete\", \"satellite\", \"pathrow\", \"date\", \"band\"]] = test2[\"imageID\"].str.split('_', expand=True)\n",
        "test2 = test2.drop(['delete', 'imageID'], axis=1)\n",
        "test2[\"date\"] = pd.to_datetime(test2[\"date\"], format='%Y%m%d')\n",
        "test2 = test2.pivot(\n",
        "    index = ['lagoslakei', 'satellite', 'pathrow', 'date'],\n",
        "    columns = 'band',\n",
        "    values = 'values').reset_index()"
      ],
      "metadata": {
        "id": "HLDXgYo5CHa8"
      },
      "execution_count": null,
      "outputs": []
    },
    {
      "cell_type": "code",
      "source": [
        "uploaded3 = files.upload()\n",
        "df3 = pd.read_csv(io.BytesIO(uploaded3['MAIN_all_lakes_zstats3_jrc50.csv']))\n",
        "\n",
        "test3 = df3.melt(['lagoslakei'], var_name = \"imageID\", value_name = \"values\")\n",
        "test3 = test3.dropna()\n",
        "test3[[\"delete\", \"satellite\", \"pathrow\", \"date\", \"band\"]] = test3[\"imageID\"].str.split('_', expand=True)\n",
        "test3 = test3.drop(['delete', 'imageID'], axis=1)\n",
        "test3[\"date\"] = pd.to_datetime(test3[\"date\"], format='%Y%m%d')\n",
        "test3 = test3.pivot(\n",
        "    index = ['lagoslakei', 'satellite', 'pathrow', 'date'],\n",
        "    columns = 'band',\n",
        "    values = 'values').reset_index()"
      ],
      "metadata": {
        "id": "kzcZd-zcJ93U"
      },
      "execution_count": null,
      "outputs": []
    },
    {
      "cell_type": "code",
      "source": [
        "#join dfs\n",
        "combined_df = pd.concat([test,test2,test3]).sort_values(by=['lagoslakei'])\n",
        "\n",
        "#remove NAs\n",
        "combined_df = combined_df.dropna()\n",
        "\n",
        "#display\n",
        "data_table.DataTable(combined_df, num_rows_per_page=10)"
      ],
      "metadata": {
        "id": "q0IGXBruDxrL"
      },
      "execution_count": null,
      "outputs": []
    },
    {
      "cell_type": "code",
      "source": [
        "out_dir = os.path.expanduser('~/Downloads')\n",
        "if not os.path.exists(out_dir):\n",
        "    os.makedirs(out_dir)\n",
        "\n",
        "output_filepath = os.path.join(out_dir, 'landsat_allLakes_jrc50.csv')\n",
        "combined_df.to_csv(output_filepath)"
      ],
      "metadata": {
        "id": "llByJxCDuZTz"
      },
      "execution_count": null,
      "outputs": []
    }
  ]
}