{
  "cells": [
    {
      "cell_type": "markdown",
      "metadata": {
        "id": "nfy33vANGC7W"
      },
      "source": [
        "# Loading Libraries"
      ]
    },
    {
      "cell_type": "markdown",
      "metadata": {
        "id": "ZG4GV-RPGEWA"
      },
      "source": [
        "Connect to Earth engine, import packages."
      ]
    },
    {
      "cell_type": "code",
      "execution_count": null,
      "metadata": {
        "id": "M_zIeIdyEKRf"
      },
      "outputs": [],
      "source": [
        " import ee\n",
        "!pip install geopandas geemap geehydro\n",
        "import geemap\n",
        "import folium\n",
        "import os\n",
        "import geehydro\n",
        "\n",
        "try:\n",
        "        ee.Initialize()\n",
        "except Exception as e:\n",
        "        ee.Authenticate()\n",
        "        ee.Initialize(project='ccri-chla-modeling')\n",
        "\n",
        "# from google.colab import drive\n",
        "# drive.mount('/content/drive')\n",
        "# out_dir = os.path.expanduser('/content/drive/test')\n"
      ]
    },
    {
      "cell_type": "markdown",
      "metadata": {
        "id": "Rq164umiuoYL"
      },
      "source": [
        "Import assets from gee"
      ]
    },
    {
      "cell_type": "code",
      "execution_count": null,
      "metadata": {
        "id": "yYlQVGCruatr"
      },
      "outputs": [],
      "source": [
        "## shapefile (STORETID) table as csv\n",
        "from google.colab import files\n",
        "uploaded = files.upload()\n",
        "import pandas as pd\n",
        "import io\n",
        "\n",
        "#assets from GEE\n",
        "UniquePts = ee.FeatureCollection(\"users/greeneji/MiCorp_Secchi_4ha_dissolve\")\n",
        "\n",
        "STORETIDs = pd.read_csv(io.BytesIO(uploaded['MiCorp_Secchi_4ha_dissolve.csv']))\n",
        "STORETIDs1 = STORETIDs.iloc[0:, 1].dropna().to_list()"
      ]
    },
    {
      "cell_type": "markdown",
      "metadata": {
        "id": "E4c2Br0rcIlJ"
      },
      "source": [
        "\n",
        "\n",
        "# MAIN Atmospheric Correction"
      ]
    },
    {
      "cell_type": "markdown",
      "metadata": {
        "id": "JFMqL1_ZcGEp"
      },
      "source": [
        "Page, B.P., Olmanson, L.G. and Mishra, D.R., 2019. A harmonized image processing workflow using Sentinel-2/MSI and Landsat-8/OLI for mapping water clarity in optically variable lake systems. Remote Sensing of Environment, 231, p.111284.\n",
        "\n",
        "https://github.com/Nateme16/geo-aquawatch-water-quality/blob/main/Atmospheric%20corrections/main_L8L9.ipynb"
      ]
    },
    {
      "cell_type": "code",
      "source": [
        "# MAIN Atmospheric Correction\n",
        "pi = ee.Image(3.141592);\n",
        "\n",
        "\n",
        "def MAIN_S2A(img):\n",
        "\n",
        "    # msi bands\n",
        "    bands = ['B1','B2','B3','B4','B5','B6','B7', 'B8', 'B8A', 'B11', 'B12'];\n",
        "\n",
        "    # rescale\n",
        "    rescale = img.select(bands).divide(10000)\n",
        "\n",
        "    # tile footprint\n",
        "    footprint = rescale.geometry()\n",
        "\n",
        "    # dem\n",
        "    DEM = ee.Image('USGS/SRTMGL1_003').clip(footprint);\n",
        "\n",
        "    # ozone\n",
        "    DU = ee.Image(300);\n",
        "    #ee.Image(ozone.filterDate(startDate,endDate).filterBounds(footprint).mean());\n",
        "\n",
        "    # Julian Day\n",
        "    imgDate = ee.Date(img.get('system:time_start'));\n",
        "    FOY = ee.Date.fromYMD(imgDate.get('year'),1,1);\n",
        "    JD = imgDate.difference(FOY,'day').int().add(1);\n",
        "\n",
        "    # earth-sun distance\n",
        "    myCos = ((ee.Image(0.0172).multiply(ee.Image(JD).subtract(ee.Image(2)))).cos()).pow(2)\n",
        "    cosd = myCos.multiply(pi.divide(ee.Image(180))).cos();\n",
        "    d = ee.Image(1).subtract(ee.Image(0.01673)).multiply(cosd).clip(footprint)\n",
        "\n",
        "    # sun azimuth\n",
        "    SunAz = ee.Image.constant(img.get('MEAN_SOLAR_AZIMUTH_ANGLE')).clip(footprint);\n",
        "\n",
        "    # sun zenith\n",
        "    SunZe = ee.Image.constant(img.get('MEAN_SOLAR_ZENITH_ANGLE')).clip(footprint);\n",
        "    cosdSunZe = SunZe.multiply(pi.divide(ee.Image(180))).cos(); # in degrees\n",
        "    sindSunZe = SunZe.multiply(pi.divide(ee.Image(180))).sin(); # in degrees\n",
        "\n",
        "    # sat zenith\n",
        "    SatZe = ee.Image.constant(img.get('MEAN_INCIDENCE_ZENITH_ANGLE_B5')).clip(footprint);\n",
        "    cosdSatZe = (SatZe).multiply(pi.divide(ee.Image(180))).cos();\n",
        "    sindSatZe = (SatZe).multiply(pi.divide(ee.Image(180))).sin();\n",
        "\n",
        "    # sat azimuth\n",
        "    SatAz = ee.Image.constant(img.get('MEAN_INCIDENCE_AZIMUTH_ANGLE_B5')).clip(footprint);\n",
        "\n",
        "    # relative azimuth\n",
        "    RelAz = SatAz.subtract(SunAz);\n",
        "    cosdRelAz = RelAz.multiply(pi.divide(ee.Image(180))).cos();\n",
        "\n",
        "    # Pressure\n",
        "    P = ee.Image(101325).multiply(ee.Image(1).subtract(ee.Image(0.0000225577).multiply(DEM)).pow(5.25588)).multiply(0.01)\n",
        "    Po = ee.Image(1013.25);\n",
        "\n",
        "    # esun\n",
        "    ESUN = ee.Image(ee.Array([ee.Image(img.get('SOLAR_IRRADIANCE_B1')),\n",
        "                      ee.Image(img.get('SOLAR_IRRADIANCE_B2')),\n",
        "                      ee.Image(img.get('SOLAR_IRRADIANCE_B3')),\n",
        "                      ee.Image(img.get('SOLAR_IRRADIANCE_B4')),\n",
        "                      ee.Image(img.get('SOLAR_IRRADIANCE_B5')),\n",
        "                      ee.Image(img.get('SOLAR_IRRADIANCE_B6')),\n",
        "                      ee.Image(img.get('SOLAR_IRRADIANCE_B7')),\n",
        "                      ee.Image(img.get('SOLAR_IRRADIANCE_B8')),\n",
        "                      ee.Image(img.get('SOLAR_IRRADIANCE_B8A')),\n",
        "                      ee.Image(img.get('SOLAR_IRRADIANCE_B11')),\n",
        "                      ee.Image(img.get('SOLAR_IRRADIANCE_B12'))]\n",
        "                      )).toArray().toArray(1);\n",
        "\n",
        "    ESUN = ESUN.multiply(ee.Image(1))\n",
        "\n",
        "    ESUNImg = ESUN.arrayProject([0]).arrayFlatten([bands]);\n",
        "\n",
        "    # create empty array for the images\n",
        "    imgArr = rescale.select(bands).toArray().toArray(1);\n",
        "\n",
        "    # pTOA to Ltoa\n",
        "    Ltoa = imgArr.multiply(ESUN).multiply(cosdSunZe).divide(pi.multiply(d.pow(2)));\n",
        "\n",
        "    # band centers\n",
        "    bandCenter = ee.Image(444).divide(1000).addBands(ee.Image(496).divide(1000)).addBands(ee.Image(560).divide(1000)).addBands(ee.Image(664).divide(1000)).addBands(ee.Image(704).divide(1000)).addBands(ee.Image(740).divide(1000)).addBands(ee.Image(782).divide(1000)).addBands(ee.Image(835).divide(1000)).addBands(ee.Image(865).divide(1000)).addBands(ee.Image(1613).divide(1000)).addBands(ee.Image(2202).divide(1000)).toArray().toArray(1);\n",
        "\n",
        "    # ozone coefficients\n",
        "    koz = ee.Image(0.0040).addBands(ee.Image(0.0244)).addBands(ee.Image(0.1052)).addBands(ee.Image(0.0516)).addBands(ee.Image(0.0208)).addBands(ee.Image(0.0112)).addBands(ee.Image(0.0079)).addBands(ee.Image(0.0021)).addBands(ee.Image(0.0019))                          .addBands(ee.Image(0)).addBands(ee.Image(0)).toArray().toArray(1);\n",
        "\n",
        "    # Calculate ozone optical thickness\n",
        "    Toz = koz.multiply(DU).divide(ee.Image(1000));\n",
        "\n",
        "    # Calculate TOA radiance in the absense of ozone\n",
        "    Lt = Ltoa.multiply(((Toz)).multiply((ee.Image(1).divide(cosdSunZe)).add(ee.Image(1).divide(cosdSatZe))).exp());\n",
        "\n",
        "    # Rayleigh optical thickness\n",
        "    Tr = (P.divide(Po)).multiply(ee.Image(0.008569).multiply(bandCenter.pow(-4))).multiply((ee.Image(1).add(ee.Image(0.0113).multiply(bandCenter.pow(-2))).add(ee.Image(0.00013).multiply(bandCenter.pow(-4)))));\n",
        "\n",
        "    # Specular reflection (s- and p- polarization states)\n",
        "    theta_V = ee.Image(0.0000000001);\n",
        "    sin_theta_j = sindSunZe.divide(ee.Image(1.333));\n",
        "\n",
        "    theta_j = sin_theta_j.asin().multiply(ee.Image(180).divide(pi));\n",
        "\n",
        "    theta_SZ = SunZe;\n",
        "\n",
        "    R_theta_SZ_s = (((theta_SZ.multiply(pi.divide(ee.Image(180)))).subtract(theta_j.multiply(pi.divide(ee.Image(180))))).sin().pow(2)).divide((((theta_SZ.multiply(pi.divide(ee.Image(180)))).add(theta_j.multiply(pi.divide(ee.Image(180))))).sin().pow(2)));\n",
        "\n",
        "    R_theta_V_s = ee.Image(0.0000000001);\n",
        "\n",
        "    R_theta_SZ_p = (((theta_SZ.multiply(pi.divide(180))).subtract(theta_j.multiply(pi.divide(180)))).tan().pow(2)).divide((((theta_SZ.multiply(pi.divide(180))).add(theta_j.multiply(pi.divide(180)))).tan().pow(2)));\n",
        "\n",
        "    R_theta_V_p = ee.Image(0.0000000001);\n",
        "\n",
        "    R_theta_SZ = ee.Image(0.5).multiply(R_theta_SZ_s.add(R_theta_SZ_p));\n",
        "\n",
        "    R_theta_V = ee.Image(0.5).multiply(R_theta_V_s.add(R_theta_V_p));\n",
        "\n",
        "    # Sun-sensor geometry\n",
        "    theta_neg = ((cosdSunZe.multiply(ee.Image(-1))).multiply(cosdSatZe)).subtract((sindSunZe).multiply(sindSatZe).multiply(cosdRelAz));\n",
        "\n",
        "    theta_neg_inv = theta_neg.acos().multiply(ee.Image(180).divide(pi));\n",
        "\n",
        "    theta_pos = (cosdSunZe.multiply(cosdSatZe)).subtract(sindSunZe.multiply(sindSatZe).multiply(cosdRelAz));\n",
        "\n",
        "    theta_pos_inv = theta_pos.acos().multiply(ee.Image(180).divide(pi));\n",
        "\n",
        "    cosd_tni = theta_neg_inv.multiply(pi.divide(180)).cos(); # in degrees\n",
        "\n",
        "    cosd_tpi = theta_pos_inv.multiply(pi.divide(180)).cos(); # in degrees\n",
        "\n",
        "    Pr_neg = ee.Image(0.75).multiply((ee.Image(1).add(cosd_tni.pow(2))));\n",
        "\n",
        "    Pr_pos = ee.Image(0.75).multiply((ee.Image(1).add(cosd_tpi.pow(2))));\n",
        "\n",
        "    # Rayleigh scattering phase function\n",
        "    Pr = Pr_neg.add((R_theta_SZ.add(R_theta_V)).multiply(Pr_pos));\n",
        "\n",
        "    # rayleigh radiance contribution\n",
        "    denom = ee.Image(4).multiply(pi).multiply(cosdSatZe);\n",
        "    Lr = (ESUN.multiply(Tr)).multiply(Pr.divide(denom));\n",
        "\n",
        "    # rayleigh corrected radiance\n",
        "    Lrc = Lt.subtract(Lr);\n",
        "    LrcImg = Lrc.arrayProject([0]).arrayFlatten([bands]);\n",
        "    prcImg = (Lrc.multiply(pi).multiply(d.pow(2)).divide(ESUN.multiply(cosdSunZe)));\n",
        "    prcImg = prcImg.arrayProject([0]).arrayFlatten([bands]);\n",
        "\n",
        "\n",
        "    # Aerosol Correction\n",
        "\n",
        "    # Bands in nm\n",
        "    bands_nm = ee.Image(444).addBands(ee.Image(496)).addBands(ee.Image(560)).addBands(ee.Image(664)).addBands(ee.Image(703)).addBands(ee.Image(740)).addBands(ee.Image(782)).addBands(ee.Image(835)).addBands(ee.Image(865)).addBands(ee.Image(0)) .addBands(ee.Image(0)).toArray().toArray(1);\n",
        "\n",
        "    # Lam in SWIR bands\n",
        "    Lam_10 = LrcImg.select('B11')\n",
        "    Lam_11 = LrcImg.select('B12')\n",
        "\n",
        "    # Calculate aerosol type\n",
        "    eps = ((((Lam_11).divide(ESUNImg.select('B12'))).log()).subtract(((Lam_10).divide(ESUNImg.select('B11'))).log())).divide(ee.Image(2190).subtract(ee.Image(1610)));\n",
        "\n",
        "    # Calculate multiple scattering of aerosols for each band\n",
        "    Lam = (Lam_11).multiply(((ESUN).divide(ESUNImg.select('B12')))).multiply((eps.multiply(ee.Image(-1))).multiply((bands_nm.divide(ee.Image(2190)))).exp());\n",
        "\n",
        "    # diffuse transmittance\n",
        "    trans = Tr.multiply(ee.Image(-1)).divide(ee.Image(2)).multiply(ee.Image(1).divide(cosdSatZe)).exp();\n",
        "\n",
        "    # Compute water-leaving radiance\n",
        "    Lw = Lrc.subtract(Lam).divide(trans);\n",
        "\n",
        "    # water-leaving reflectance\n",
        "    pw = (Lw.multiply(pi).multiply(d.pow(2)).divide(ESUN.multiply(cosdSunZe)));\n",
        "\n",
        "    # remote sensing reflectance\n",
        "    Rrs_S2A = (pw.divide(pi).arrayProject([0]).arrayFlatten([bands]).slice(0,9));\n",
        "\n",
        "    # set negatives to null\n",
        "    Rrs_S2A = Rrs_S2A.updateMask(Rrs_S2A.select('B1').gt(0)).multiply(mask)\n",
        "\n",
        "    return Rrs_S2A.set('system:time_start',img.get('system:time_start'))"
      ],
      "metadata": {
        "id": "XLb3e1C-KvKJ",
        "colab": {
          "base_uri": "https://localhost:8080/",
          "height": 17
        },
        "outputId": "419127ee-6ce7-4798-9474-a0c60c3af28e"
      },
      "execution_count": null,
      "outputs": [
        {
          "output_type": "display_data",
          "data": {
            "text/plain": [
              "<IPython.core.display.HTML object>"
            ],
            "text/html": [
              "\n",
              "            <style>\n",
              "                .geemap-dark {\n",
              "                    --jp-widgets-color: white;\n",
              "                    --jp-widgets-label-color: white;\n",
              "                    --jp-ui-font-color1: white;\n",
              "                    --jp-layout-color2: #454545;\n",
              "                    background-color: #383838;\n",
              "                }\n",
              "                    \n",
              "                .geemap-dark .jupyter-button {\n",
              "                    --jp-layout-color3: #383838;\n",
              "                }\n",
              "                \n",
              "                .geemap-colab {\n",
              "                    background-color: var(--colab-primary-surface-color, white);\n",
              "                }\n",
              "                    \n",
              "                .geemap-colab .jupyter-button {\n",
              "                    --jp-layout-color3: var(--colab-primary-surface-color, white);\n",
              "                }\n",
              "            </style>\n",
              "            "
            ]
          },
          "metadata": {}
        }
      ]
    },
    {
      "cell_type": "code",
      "source": [
        "# MAIN for S2B\n",
        "def MAIN_S2B(img):\n",
        "\n",
        "    # msi bands\n",
        "    bands = ['B1','B2','B3','B4','B5','B6','B7', 'B8', 'B8A', 'B11', 'B12'];\n",
        "\n",
        "    # rescale\n",
        "    rescale = img.select(bands).divide(10000)\n",
        "\n",
        "    # tile footprint\n",
        "    footprint = rescale.geometry()\n",
        "\n",
        "    # dem\n",
        "    DEM = ee.Image('USGS/SRTMGL1_003').clip(footprint);\n",
        "\n",
        "    # ozone\n",
        "    DU = ee.Image(300);\n",
        "\n",
        "    # Julian Day\n",
        "    imgDate = ee.Date(img.get('system:time_start'));\n",
        "    FOY = ee.Date.fromYMD(imgDate.get('year'),1,1);\n",
        "    JD = imgDate.difference(FOY,'day').int().add(1);\n",
        "\n",
        "    # earth-sun distance\n",
        "    myCos = ((ee.Image(0.0172).multiply(ee.Image(JD).subtract(ee.Image(2)))).cos()).pow(2)\n",
        "    cosd = myCos.multiply(pi.divide(ee.Image(180))).cos();\n",
        "    d = ee.Image(1).subtract(ee.Image(0.01673)).multiply(cosd).clip(footprint)\n",
        "\n",
        "    # sun azimuth\n",
        "    SunAz = ee.Image.constant(img.get('MEAN_SOLAR_AZIMUTH_ANGLE')).clip(footprint);\n",
        "\n",
        "    # sun zenith\n",
        "    SunZe = ee.Image.constant(img.get('MEAN_SOLAR_ZENITH_ANGLE')).clip(footprint);\n",
        "    cosdSunZe = SunZe.multiply(pi.divide(ee.Image(180))).cos(); # in degrees\n",
        "    sindSunZe = SunZe.multiply(pi.divide(ee.Image(180))).sin(); # in degrees\n",
        "\n",
        "    # sat zenith\n",
        "    SatZe = ee.Image.constant(img.get('MEAN_INCIDENCE_ZENITH_ANGLE_B5')).clip(footprint);\n",
        "    cosdSatZe = (SatZe).multiply(pi.divide(ee.Image(180))).cos();\n",
        "    sindSatZe = (SatZe).multiply(pi.divide(ee.Image(180))).sin();\n",
        "\n",
        "    # sat azimuth\n",
        "    SatAz = ee.Image.constant(img.get('MEAN_INCIDENCE_AZIMUTH_ANGLE_B5')).clip(footprint);\n",
        "\n",
        "    # relative azimuth\n",
        "    RelAz = SatAz.subtract(SunAz);\n",
        "    cosdRelAz = RelAz.multiply(pi.divide(ee.Image(180))).cos();\n",
        "\n",
        "    # Pressure\n",
        "    P = ee.Image(101325).multiply(ee.Image(1).subtract(ee.Image(0.0000225577).multiply(DEM)).pow(5.25588)).multiply(0.01)\n",
        "    Po = ee.Image(1013.25);\n",
        "\n",
        "    # esun\n",
        "    ESUN = ee.Image(ee.Array([ee.Image(img.get('SOLAR_IRRADIANCE_B1')),\n",
        "                      ee.Image(img.get('SOLAR_IRRADIANCE_B2')),\n",
        "                      ee.Image(img.get('SOLAR_IRRADIANCE_B3')),\n",
        "                      ee.Image(img.get('SOLAR_IRRADIANCE_B4')),\n",
        "                      ee.Image(img.get('SOLAR_IRRADIANCE_B5')),\n",
        "                      ee.Image(img.get('SOLAR_IRRADIANCE_B6')),\n",
        "                      ee.Image(img.get('SOLAR_IRRADIANCE_B7')),\n",
        "                      ee.Image(img.get('SOLAR_IRRADIANCE_B8')),\n",
        "                      ee.Image(img.get('SOLAR_IRRADIANCE_B8A')),\n",
        "                      ee.Image(img.get('SOLAR_IRRADIANCE_B11')),\n",
        "                      ee.Image(img.get('SOLAR_IRRADIANCE_B12'))]\n",
        "                      )).toArray().toArray(1);\n",
        "\n",
        "    ESUN = ESUN.multiply(ee.Image(1))\n",
        "\n",
        "    ESUNImg = ESUN.arrayProject([0]).arrayFlatten([bands]);\n",
        "\n",
        "    # create empty array for the images\n",
        "    imgArr = rescale.select(bands).toArray().toArray(1);\n",
        "\n",
        "    # pTOA to Ltoa\n",
        "    Ltoa = imgArr.multiply(ESUN).multiply(cosdSunZe).divide(pi.multiply(d.pow(2)));\n",
        "\n",
        "    # band centers\n",
        "    bandCenter = ee.Image(442).divide(1000).addBands(ee.Image(492).divide(1000)).addBands(ee.Image(559).divide(1000)).addBands(ee.Image(665).divide(1000)).addBands(ee.Image(703).divide(1000)).addBands(ee.Image(739).divide(1000)).addBands(ee.Image(779).divide(1000)).addBands(ee.Image(833).divide(1000)).addBands(ee.Image(864).divide(1000)).addBands(ee.Image(1610).divide(1000)).addBands(ee.Image(2185).divide(1000)).toArray().toArray(1);\n",
        "\n",
        "    # ozone coefficients\n",
        "    koz = ee.Image(0.0037).addBands(ee.Image(0.0223)).addBands(ee.Image(0.1027)).addBands(ee.Image(0.0505)).addBands(ee.Image(0.0212)).addBands(ee.Image(0.0112)).addBands(ee.Image(0.0085)).addBands(ee.Image(0.0022)).addBands(ee.Image(0.0021))                          .addBands(ee.Image(0)).addBands(ee.Image(0)).toArray().toArray(1);\n",
        "\n",
        "    # Calculate ozone optical thickness\n",
        "    Toz = koz.multiply(DU).divide(ee.Image(1000));\n",
        "\n",
        "    # Calculate TOA radiance in the absense of ozone\n",
        "    Lt = Ltoa.multiply(((Toz)).multiply((ee.Image(1).divide(cosdSunZe)).add(ee.Image(1).divide(cosdSatZe))).exp());\n",
        "\n",
        "    # Rayleigh optical thickness\n",
        "    Tr = (P.divide(Po)).multiply(ee.Image(0.008569).multiply(bandCenter.pow(-4))).multiply((ee.Image(1).add(ee.Image(0.0113).multiply(bandCenter.pow(-2))).add(ee.Image(0.00013).multiply(bandCenter.pow(-4)))));\n",
        "\n",
        "    # Specular reflection (s- and p- polarization states)\n",
        "    theta_V = ee.Image(0.0000000001);\n",
        "    sin_theta_j = sindSunZe.divide(ee.Image(1.333));\n",
        "\n",
        "    theta_j = sin_theta_j.asin().multiply(ee.Image(180).divide(pi));\n",
        "\n",
        "    theta_SZ = SunZe;\n",
        "\n",
        "    R_theta_SZ_s = (((theta_SZ.multiply(pi.divide(ee.Image(180)))).subtract(theta_j.multiply(pi.divide(ee.Image(180))))).sin().pow(2)).divide((((theta_SZ.multiply(pi.divide(ee.Image(180)))).add(theta_j.multiply(pi.divide(ee.Image(180))))).sin().pow(2)));\n",
        "\n",
        "    R_theta_V_s = ee.Image(0.0000000001);\n",
        "\n",
        "    R_theta_SZ_p = (((theta_SZ.multiply(pi.divide(180))).subtract(theta_j.multiply(pi.divide(180)))).tan().pow(2)).divide((((theta_SZ.multiply(pi.divide(180))).add(theta_j.multiply(pi.divide(180)))).tan().pow(2)));\n",
        "\n",
        "    R_theta_V_p = ee.Image(0.0000000001);\n",
        "\n",
        "    R_theta_SZ = ee.Image(0.5).multiply(R_theta_SZ_s.add(R_theta_SZ_p));\n",
        "\n",
        "    R_theta_V = ee.Image(0.5).multiply(R_theta_V_s.add(R_theta_V_p));\n",
        "\n",
        "    # Sun-sensor geometry\n",
        "    theta_neg = ((cosdSunZe.multiply(ee.Image(-1))).multiply(cosdSatZe)).subtract((sindSunZe).multiply(sindSatZe).multiply(cosdRelAz));\n",
        "\n",
        "    theta_neg_inv = theta_neg.acos().multiply(ee.Image(180).divide(pi));\n",
        "\n",
        "    theta_pos = (cosdSunZe.multiply(cosdSatZe)).subtract(sindSunZe.multiply(sindSatZe).multiply(cosdRelAz));\n",
        "\n",
        "    theta_pos_inv = theta_pos.acos().multiply(ee.Image(180).divide(pi));\n",
        "\n",
        "    cosd_tni = theta_neg_inv.multiply(pi.divide(180)).cos(); # in degrees\n",
        "\n",
        "    cosd_tpi = theta_pos_inv.multiply(pi.divide(180)).cos(); # in degrees\n",
        "\n",
        "    Pr_neg = ee.Image(0.75).multiply((ee.Image(1).add(cosd_tni.pow(2))));\n",
        "\n",
        "    Pr_pos = ee.Image(0.75).multiply((ee.Image(1).add(cosd_tpi.pow(2))));\n",
        "\n",
        "    # Rayleigh scattering phase function\n",
        "    Pr = Pr_neg.add((R_theta_SZ.add(R_theta_V)).multiply(Pr_pos));\n",
        "\n",
        "    # rayleigh radiance contribution\n",
        "    denom = ee.Image(4).multiply(pi).multiply(cosdSatZe);\n",
        "    Lr = (ESUN.multiply(Tr)).multiply(Pr.divide(denom));\n",
        "\n",
        "    # rayleigh corrected radiance\n",
        "    Lrc = Lt.subtract(Lr);\n",
        "    LrcImg = Lrc.arrayProject([0]).arrayFlatten([bands]);\n",
        "    prcImg = (Lrc.multiply(pi).multiply(d.pow(2)).divide(ESUN.multiply(cosdSunZe)));\n",
        "    prcImg = prcImg.arrayProject([0]).arrayFlatten([bands]);\n",
        "\n",
        "    # Aerosol Correction\n",
        "\n",
        "    # Bands in nm\n",
        "    bands_nm = ee.Image(442).addBands(ee.Image(492)).addBands(ee.Image(559)).addBands(ee.Image(665)).addBands(ee.Image(703)).addBands(ee.Image(739)).addBands(ee.Image(779)).addBands(ee.Image(833)).addBands(ee.Image(864))                            .addBands(ee.Image(0)) .addBands(ee.Image(0)).toArray().toArray(1);\n",
        "\n",
        "    # Lam in SWIR bands\n",
        "    Lam_10 = LrcImg.select('B11'); # = 0\n",
        "    Lam_11 = LrcImg.select('B12'); # = 0\n",
        "\n",
        "    # Calculate aerosol type\n",
        "    eps = ((((Lam_11).divide(ESUNImg.select('B12'))).log()).subtract(((Lam_10).divide(ESUNImg.select('B11'))).log())).divide(ee.Image(2190).subtract(ee.Image(1610)));\n",
        "\n",
        "    # Calculate multiple scattering of aerosols for each band\n",
        "    Lam = (Lam_11).multiply(((ESUN).divide(ESUNImg.select('B12')))).multiply((eps.multiply(ee.Image(-1))).multiply((bands_nm.divide(ee.Image(2190)))).exp());\n",
        "\n",
        "    # diffuse transmittance\n",
        "    trans = Tr.multiply(ee.Image(-1)).divide(ee.Image(2)).multiply(ee.Image(1).divide(cosdSatZe)).exp();\n",
        "\n",
        "    # Compute water-leaving radiance\n",
        "    Lw = Lrc.subtract(Lam).divide(trans);\n",
        "\n",
        "    # water-leaving reflectance\n",
        "    pw = (Lw.multiply(pi).multiply(d.pow(2)).divide(ESUN.multiply(cosdSunZe)));\n",
        "\n",
        "    # remote sensing reflectance\n",
        "    Rrs_S2B = (pw.divide(pi).arrayProject([0]).arrayFlatten([bands]).slice(0,9));\n",
        "\n",
        "    # set negatives to null\n",
        "    Rrs_S2B = Rrs_S2B.updateMask(Rrs_S2B.select('B1').gt(0)).multiply(mask)\n",
        "\n",
        "    return Rrs_S2B.set('system:time_start',img.get('system:time_start'))"
      ],
      "metadata": {
        "id": "8YUObguRK22a",
        "colab": {
          "base_uri": "https://localhost:8080/",
          "height": 17
        },
        "outputId": "ceac751e-f4e5-4ac1-9925-65e9b65aaab9"
      },
      "execution_count": null,
      "outputs": [
        {
          "output_type": "display_data",
          "data": {
            "text/plain": [
              "<IPython.core.display.HTML object>"
            ],
            "text/html": [
              "\n",
              "            <style>\n",
              "                .geemap-dark {\n",
              "                    --jp-widgets-color: white;\n",
              "                    --jp-widgets-label-color: white;\n",
              "                    --jp-ui-font-color1: white;\n",
              "                    --jp-layout-color2: #454545;\n",
              "                    background-color: #383838;\n",
              "                }\n",
              "                    \n",
              "                .geemap-dark .jupyter-button {\n",
              "                    --jp-layout-color3: #383838;\n",
              "                }\n",
              "                \n",
              "                .geemap-colab {\n",
              "                    background-color: var(--colab-primary-surface-color, white);\n",
              "                }\n",
              "                    \n",
              "                .geemap-colab .jupyter-button {\n",
              "                    --jp-layout-color3: var(--colab-primary-surface-color, white);\n",
              "                }\n",
              "            </style>\n",
              "            "
            ]
          },
          "metadata": {}
        }
      ]
    },
    {
      "cell_type": "markdown",
      "metadata": {
        "id": "redlzG0FrfdM"
      },
      "source": [
        "# Secchi Code"
      ]
    },
    {
      "cell_type": "markdown",
      "metadata": {
        "id": "kT-z9o42sL6s"
      },
      "source": [
        "## Creating mask functions"
      ]
    },
    {
      "cell_type": "markdown",
      "metadata": {
        "id": "JQHLY_5HsPas"
      },
      "source": [
        "These functions mask clouds based on the QA_PIXEL band (maskL8sr), select pixels that are >= 75% water (jrcMask), and a 30m buffer around roads to mask bridges (roadMask)"
      ]
    },
    {
      "cell_type": "code",
      "source": [
        "AOI = ee.FeatureCollection(\"users/greeneji/MiCorp_Secchi_4ha_dissolve\")\n",
        "START_DATE = '2019-05-01'\n",
        "END_DATE = '2023-08-30'\n",
        "CLOUD_FILTER = 50\n",
        "CLD_PRB_THRESH = 40\n",
        "NIR_DRK_THRESH = 0.15\n",
        "CLD_PRJ_DIST = 1\n",
        "BUFFER = 50\n",
        "\n",
        "#import S2 collection & join s2cloudless\n",
        "def get_s2_sr_cld_col(aoi, start_date, end_date):\n",
        "\n",
        "    # Import and filter s2cloudless.\n",
        "    s2_cloudless_col = (ee.ImageCollection('COPERNICUS/S2_CLOUD_PROBABILITY')\n",
        "        .filterBounds(aoi)\n",
        "        .filterDate(start_date, end_date))\n",
        "\n",
        "    # Import and filter s2 raw images.\n",
        "    s2_raw_col = (ee.ImageCollection('COPERNICUS/S2_HARMONIZED')\n",
        "        .filterBounds(aoi)\n",
        "        .filterDate(start_date, end_date)\n",
        "        .filter(ee.Filter.lte('CLOUDY_PIXEL_PERCENTAGE', CLOUD_FILTER)))\n",
        "\n",
        "    # Join the filtered s2cloudless collection to the S2 collection by the 'system:index' property.\n",
        "    return ee.ImageCollection(ee.Join.saveFirst('s2cloudless').apply(**{\n",
        "        'primary': s2_raw_col,\n",
        "        'secondary': s2_cloudless_col,\n",
        "        'condition': ee.Filter.equals(**{\n",
        "            'leftField': 'system:index',\n",
        "            'rightField': 'system:index'\n",
        "        })\n",
        "    }))\n",
        "\n",
        "s2_sr_cld_col_eval = get_s2_sr_cld_col(AOI, START_DATE, END_DATE)\n",
        "\n",
        "#add SCL band from SR\n",
        "s2_sr_col = (ee.ImageCollection('COPERNICUS/S2_SR_HARMONIZED')\n",
        "    .filterBounds(AOI)\n",
        "    .filterDate(START_DATE, END_DATE)\n",
        "    .filter(ee.Filter.lte('CLOUDY_PIXEL_PERCENTAGE', CLOUD_FILTER)))\n",
        "\n",
        "s2_sr_cld_col_eval = ee.ImageCollection.combine(s2_sr_cld_col_eval, s2_sr_col)\n",
        "\n",
        "s2_sr_cld_col_eval = s2_sr_cld_col_eval.select('B1', 'B2', 'B3', 'B4', 'B5', 'B6', 'B7', 'B8', 'B8A', 'B9', 'B10', 'B11', 'B12','QA10', 'QA20', 'QA60', 'SCL')\n",
        "\n",
        "#add cloud bands\n",
        "def add_cloud_bands(img):\n",
        "    # Get s2cloudless image, subset the probability band.\n",
        "    cld_prb = ee.Image(img.get('s2cloudless')).select('probability')\n",
        "\n",
        "    # Condition s2cloudless by the probability threshold value.\n",
        "    is_cloud = cld_prb.gt(CLD_PRB_THRESH).rename('clouds')\n",
        "\n",
        "    # Add the cloud probability layer and cloud mask as image bands.\n",
        "    return img.addBands(ee.Image([cld_prb, is_cloud]))\n",
        "\n",
        "\n",
        "def add_shadow_bands(img):\n",
        "    # Identify water pixels from the SCL band.\n",
        "    not_water = img.select('SCL').neq(6)\n",
        "\n",
        "    # Identify dark NIR pixels that are not water (potential cloud shadow pixels).\n",
        "    SR_BAND_SCALE = 1e4\n",
        "    dark_pixels = img.select('B8').lt(NIR_DRK_THRESH*SR_BAND_SCALE).multiply(not_water).rename('dark_pixels')\n",
        "\n",
        "    # Determine the direction to project cloud shadow from clouds (assumes UTM projection).\n",
        "    shadow_azimuth = ee.Number(90).subtract(ee.Number(img.get('MEAN_SOLAR_AZIMUTH_ANGLE')));\n",
        "\n",
        "    # Project shadows from clouds for the distance specified by the CLD_PRJ_DIST input.\n",
        "    cld_proj = (img.select('clouds').directionalDistanceTransform(shadow_azimuth, CLD_PRJ_DIST*10)\n",
        "        .reproject(**{'crs': img.select(0).projection(), 'scale': 100})\n",
        "        .select('distance')\n",
        "        .mask()\n",
        "        .rename('cloud_transform'))\n",
        "\n",
        "    # Identify the intersection of dark pixels with cloud shadow projection.\n",
        "    shadows = cld_proj.multiply(dark_pixels).rename('shadows')\n",
        "\n",
        "    # Add dark pixels, cloud projection, and identified shadows as image bands.\n",
        "    return img.addBands(ee.Image([dark_pixels, cld_proj, shadows]))\n",
        "\n",
        "\n",
        "def add_cld_shdw_mask(img):\n",
        "    # Add cloud component bands.\n",
        "    img_cloud = add_cloud_bands(img)\n",
        "\n",
        "    # Add cloud shadow component bands.\n",
        "    img_cloud_shadow = add_shadow_bands(img_cloud)\n",
        "\n",
        "    # Combine cloud and shadow mask, set cloud and shadow as value 1, else 0.\n",
        "    is_cld_shdw = img_cloud_shadow.select('clouds').add(img_cloud_shadow.select('shadows')).gt(0)\n",
        "\n",
        "    # Remove small cloud-shadow patches and dilate remaining pixels by BUFFER input.\n",
        "    # 20 m scale is for speed, and assumes clouds don't require 10 m precision.\n",
        "    is_cld_shdw = (is_cld_shdw.focalMin(2).focalMax(BUFFER*2/20)\n",
        "        .reproject(**{'crs': img.select([0]).projection(), 'scale': 20})\n",
        "        .rename('cloudmask'))\n",
        "\n",
        "    # Add the final cloud-shadow mask to the image.\n",
        "    return img_cloud_shadow.addBands(is_cld_shdw)\n",
        "\n",
        "\n",
        "def apply_cld_shdw_mask(img):\n",
        "    # Subset the cloudmask band and invert it so clouds/shadow are 0, else 1.\n",
        "    not_cld_shdw = img.select('cloudmask').Not()\n",
        "\n",
        "    # Subset reflectance bands and update their masks, return the result.\n",
        "    return img.select('B.*').updateMask(not_cld_shdw)\n",
        "\n",
        "#add cloud mask\n",
        "masked_coll = (s2_sr_cld_col_eval.map(add_cld_shdw_mask)\n",
        "                             .map(apply_cld_shdw_mask))"
      ],
      "metadata": {
        "id": "QsWdrEN3eQkl",
        "colab": {
          "base_uri": "https://localhost:8080/",
          "height": 17
        },
        "outputId": "ed9d278b-2d8b-4d9a-8847-cf24a246b676"
      },
      "execution_count": null,
      "outputs": [
        {
          "output_type": "display_data",
          "data": {
            "text/plain": [
              "<IPython.core.display.HTML object>"
            ],
            "text/html": [
              "\n",
              "            <style>\n",
              "                .geemap-dark {\n",
              "                    --jp-widgets-color: white;\n",
              "                    --jp-widgets-label-color: white;\n",
              "                    --jp-ui-font-color1: white;\n",
              "                    --jp-layout-color2: #454545;\n",
              "                    background-color: #383838;\n",
              "                }\n",
              "                    \n",
              "                .geemap-dark .jupyter-button {\n",
              "                    --jp-layout-color3: #383838;\n",
              "                }\n",
              "                \n",
              "                .geemap-colab {\n",
              "                    background-color: var(--colab-primary-surface-color, white);\n",
              "                }\n",
              "                    \n",
              "                .geemap-colab .jupyter-button {\n",
              "                    --jp-layout-color3: var(--colab-primary-surface-color, white);\n",
              "                }\n",
              "            </style>\n",
              "            "
            ]
          },
          "metadata": {}
        }
      ]
    },
    {
      "cell_type": "code",
      "source": [
        "# jrc water occurrence mask\n",
        "def jrcMask(image):\n",
        "  jrc = ee.Image('JRC/GSW1_0/GlobalSurfaceWater')\n",
        "  # select only water occurence\n",
        "  occurrence = jrc.select('occurrence')\n",
        "  # selectonly water occurences of greater than 75%\n",
        "  water_mask = occurrence.mask(occurrence.gt(50))\n",
        "  return image.updateMask(water_mask)\n",
        "\n",
        "#Creating 30m road buffer mask\n",
        "def roadMask(image):\n",
        "  roads = ee.FeatureCollection(\"TIGER/2016/Roads\")\n",
        "  # 30m road buffer\n",
        "  def bufferPoly30(feature):\n",
        "    return feature.buffer(30)\n",
        "  Buffer = roads.map(bufferPoly30)\n",
        "    # Convert 'areasqkm' property from string to number.\n",
        "  def func_uem(feature):\n",
        "        num = ee.Number.parse(ee.String(feature.get('linearid')))\n",
        "        return feature.set('linearid', num)\n",
        "  roadBuffer = Buffer.map(func_uem)\n",
        "  roadRaster = roadBuffer.reduceToImage(['linearid'], ee.Reducer.first())\n",
        "  # create an image with a constant value of one to apply roadmask to\n",
        "  blank = ee.Image.constant(1)\n",
        "  inverseMask = blank.updateMask(roadRaster)\n",
        "  # get reverse mask to have everything but roads kept\n",
        "  mask = inverseMask.mask().Not()\n",
        "  return image.updateMask(mask)"
      ],
      "metadata": {
        "id": "cYGNA_cRh4A2",
        "colab": {
          "base_uri": "https://localhost:8080/",
          "height": 17
        },
        "outputId": "c245f8d8-5dfe-4830-8713-9ab28b232042"
      },
      "execution_count": null,
      "outputs": [
        {
          "output_type": "display_data",
          "data": {
            "text/plain": [
              "<IPython.core.display.HTML object>"
            ],
            "text/html": [
              "\n",
              "            <style>\n",
              "                .geemap-dark {\n",
              "                    --jp-widgets-color: white;\n",
              "                    --jp-widgets-label-color: white;\n",
              "                    --jp-ui-font-color1: white;\n",
              "                    --jp-layout-color2: #454545;\n",
              "                    background-color: #383838;\n",
              "                }\n",
              "                    \n",
              "                .geemap-dark .jupyter-button {\n",
              "                    --jp-layout-color3: #383838;\n",
              "                }\n",
              "                \n",
              "                .geemap-colab {\n",
              "                    background-color: var(--colab-primary-surface-color, white);\n",
              "                }\n",
              "                    \n",
              "                .geemap-colab .jupyter-button {\n",
              "                    --jp-layout-color3: var(--colab-primary-surface-color, white);\n",
              "                }\n",
              "            </style>\n",
              "            "
            ]
          },
          "metadata": {}
        }
      ]
    },
    {
      "cell_type": "markdown",
      "metadata": {
        "id": "v9F102JStO2j"
      },
      "source": [
        "Create filters to select summer dates"
      ]
    },
    {
      "cell_type": "code",
      "execution_count": null,
      "metadata": {
        "id": "2aZPSaXhaljV",
        "colab": {
          "base_uri": "https://localhost:8080/",
          "height": 17
        },
        "outputId": "b2c931f5-151b-4384-8521-c3d8ed542613"
      },
      "outputs": [
        {
          "output_type": "display_data",
          "data": {
            "text/plain": [
              "<IPython.core.display.HTML object>"
            ],
            "text/html": [
              "\n",
              "            <style>\n",
              "                .geemap-dark {\n",
              "                    --jp-widgets-color: white;\n",
              "                    --jp-widgets-label-color: white;\n",
              "                    --jp-ui-font-color1: white;\n",
              "                    --jp-layout-color2: #454545;\n",
              "                    background-color: #383838;\n",
              "                }\n",
              "                    \n",
              "                .geemap-dark .jupyter-button {\n",
              "                    --jp-layout-color3: #383838;\n",
              "                }\n",
              "                \n",
              "                .geemap-colab {\n",
              "                    background-color: var(--colab-primary-surface-color, white);\n",
              "                }\n",
              "                    \n",
              "                .geemap-colab .jupyter-button {\n",
              "                    --jp-layout-color3: var(--colab-primary-surface-color, white);\n",
              "                }\n",
              "            </style>\n",
              "            "
            ]
          },
          "metadata": {}
        }
      ],
      "source": [
        "sum15 = ee.Filter.date('2015-05-01','2015-09-30')\n",
        "sum16 = ee.Filter.date('2016-05-01','2016-09-30')\n",
        "sum17 = ee.Filter.date('2017-05-01','2017-09-30')\n",
        "sum18 = ee.Filter.date('2018-05-01','2018-09-30')\n",
        "sum19 = ee.Filter.date('2019-05-01','2019-09-30')\n",
        "sum20 = ee.Filter.date('2020-05-01','2020-09-30')\n",
        "sum21 = ee.Filter.date('2021-05-01','2021-09-30')\n",
        "sum22 = ee.Filter.date('2022-05-01','2022-09-30')\n",
        "sum23 = ee.Filter.date('2023-05-01','2023-08-18')\n",
        "Summers = ee.Filter.Or(sum15, sum16, sum17, sum18, sum19, sum20, sum21, sum22, sum23)"
      ]
    },
    {
      "cell_type": "code",
      "execution_count": null,
      "metadata": {
        "id": "Fx3TA8azb2Ke",
        "colab": {
          "base_uri": "https://localhost:8080/",
          "height": 17
        },
        "outputId": "1d7a4f7e-e8f6-4e72-ee82-56026abdc573"
      },
      "outputs": [
        {
          "output_type": "display_data",
          "data": {
            "text/plain": [
              "<IPython.core.display.HTML object>"
            ],
            "text/html": [
              "\n",
              "            <style>\n",
              "                .geemap-dark {\n",
              "                    --jp-widgets-color: white;\n",
              "                    --jp-widgets-label-color: white;\n",
              "                    --jp-ui-font-color1: white;\n",
              "                    --jp-layout-color2: #454545;\n",
              "                    background-color: #383838;\n",
              "                }\n",
              "                    \n",
              "                .geemap-dark .jupyter-button {\n",
              "                    --jp-layout-color3: #383838;\n",
              "                }\n",
              "                \n",
              "                .geemap-colab {\n",
              "                    background-color: var(--colab-primary-surface-color, white);\n",
              "                }\n",
              "                    \n",
              "                .geemap-colab .jupyter-button {\n",
              "                    --jp-layout-color3: var(--colab-primary-surface-color, white);\n",
              "                }\n",
              "            </style>\n",
              "            "
            ]
          },
          "metadata": {}
        }
      ],
      "source": [
        "#create point buffer for every pt\n",
        "def wrap_buffer(pt_collection, radius):\n",
        "  def bufferPoints(pt):\n",
        "    pt_buffer = pt.buffer(radius).bounds()\n",
        "    return pt_buffer\n",
        "  return pt_collection.map(lambda ptfeat: bufferPoints(ptfeat))\n",
        "\n",
        "ptBuffer = wrap_buffer(UniquePts, 60)"
      ]
    },
    {
      "cell_type": "code",
      "execution_count": null,
      "metadata": {
        "id": "ZB_m4BEP-J_w",
        "colab": {
          "base_uri": "https://localhost:8080/",
          "height": 17
        },
        "outputId": "714d0d2f-6242-42cf-e6b0-5571792d2e0b"
      },
      "outputs": [
        {
          "output_type": "display_data",
          "data": {
            "text/plain": [
              "<IPython.core.display.HTML object>"
            ],
            "text/html": [
              "\n",
              "            <style>\n",
              "                .geemap-dark {\n",
              "                    --jp-widgets-color: white;\n",
              "                    --jp-widgets-label-color: white;\n",
              "                    --jp-ui-font-color1: white;\n",
              "                    --jp-layout-color2: #454545;\n",
              "                    background-color: #383838;\n",
              "                }\n",
              "                    \n",
              "                .geemap-dark .jupyter-button {\n",
              "                    --jp-layout-color3: #383838;\n",
              "                }\n",
              "                \n",
              "                .geemap-colab {\n",
              "                    background-color: var(--colab-primary-surface-color, white);\n",
              "                }\n",
              "                    \n",
              "                .geemap-colab .jupyter-button {\n",
              "                    --jp-layout-color3: var(--colab-primary-surface-color, white);\n",
              "                }\n",
              "            </style>\n",
              "            "
            ]
          },
          "metadata": {}
        }
      ],
      "source": [
        "# Filter landsat 8-9 collection by PATH and ROW\n",
        "# geometry = ee.Geometry.Point([22.7876 ,44.16517])\n",
        "geometry = ptBuffer\n",
        "JRC = ee.Image(\"JRC/GSW1_3/GlobalSurfaceWater\")\n",
        "mask = JRC.select('occurrence').gt(50)\n",
        "\n",
        "# oliCloudPerc = 50\n",
        "\n",
        "target_image_number = 1"
      ]
    },
    {
      "cell_type": "markdown",
      "metadata": {
        "id": "atHPQ7d6O9h-"
      },
      "source": [
        "## Import collections\n"
      ]
    },
    {
      "cell_type": "code",
      "source": [
        "# Import Collections w/ Sentinel-2\n",
        "# MSI = ee.ImageCollection('COPERNICUS/S2_HARMONIZED')\n",
        "\n",
        "ozone = ee.ImageCollection('TOMS/MERGED')\n",
        "\n",
        "JRC = ee.Image('JRC/GSW1_1/GlobalSurfaceWater')\n",
        "# Process\n",
        "mask = JRC.select('occurrence').gt(0)\n",
        "\n",
        "FC_S2A = masked_coll.filter(Summers) \\\n",
        "                .filterBounds(UniquePts) \\\n",
        "                .filterMetadata('SPACECRAFT_NAME', 'equals', 'Sentinel-2A') \\\n",
        "                .filterMetadata('CLOUDY_PIXEL_PERCENTAGE', \"less_than\", 50) \\\n",
        "                .map(jrcMask) \\\n",
        "                .map(roadMask) \\\n",
        "                .sort('system:time_start')\n",
        "\n",
        "FC_S2B = masked_coll.filter(Summers) \\\n",
        "                .filterBounds(UniquePts) \\\n",
        "                .filterMetadata('SPACECRAFT_NAME', 'equals', 'Sentinel-2B') \\\n",
        "                .filterMetadata('CLOUDY_PIXEL_PERCENTAGE', \"less_than\", 50) \\\n",
        "                .map(jrcMask) \\\n",
        "                .map(roadMask) \\\n",
        "                .sort('system:time_start')\n",
        "\n",
        "# print(FC_S2B.size().getInfo())\n",
        "# print(FC_S2B.first().date().getInfo())\n",
        "\n",
        "# merge s2a and s2b image collections\n",
        "# FC_combined = FC_S2A.merge(FC_S2B).sort('system:time_start')"
      ],
      "metadata": {
        "id": "amq2Mm4tM1iG",
        "colab": {
          "base_uri": "https://localhost:8080/",
          "height": 17
        },
        "outputId": "0ba7954a-5ca5-4810-d3ab-315f625d3e2f"
      },
      "execution_count": null,
      "outputs": [
        {
          "output_type": "display_data",
          "data": {
            "text/plain": [
              "<IPython.core.display.HTML object>"
            ],
            "text/html": [
              "\n",
              "            <style>\n",
              "                .geemap-dark {\n",
              "                    --jp-widgets-color: white;\n",
              "                    --jp-widgets-label-color: white;\n",
              "                    --jp-ui-font-color1: white;\n",
              "                    --jp-layout-color2: #454545;\n",
              "                    background-color: #383838;\n",
              "                }\n",
              "                    \n",
              "                .geemap-dark .jupyter-button {\n",
              "                    --jp-layout-color3: #383838;\n",
              "                }\n",
              "                \n",
              "                .geemap-colab {\n",
              "                    background-color: var(--colab-primary-surface-color, white);\n",
              "                }\n",
              "                    \n",
              "                .geemap-colab .jupyter-button {\n",
              "                    --jp-layout-color3: var(--colab-primary-surface-color, white);\n",
              "                }\n",
              "            </style>\n",
              "            "
            ]
          },
          "metadata": {}
        }
      ]
    },
    {
      "cell_type": "markdown",
      "metadata": {
        "id": "E4fwxz27LlCP"
      },
      "source": [
        "### Zonal Statistics by STORET ID\n",
        "\n",
        "Creates a file for each STORET_ID.\n",
        "\n"
      ]
    },
    {
      "cell_type": "markdown",
      "metadata": {
        "id": "Y1E4SaDbmajO"
      },
      "source": [
        "convert Rrs to 32-bit integer"
      ]
    },
    {
      "cell_type": "code",
      "execution_count": null,
      "metadata": {
        "id": "ZDDpxzwhvcMT"
      },
      "outputs": [],
      "source": [
        "from geemap.geemap import ee_to_pandas\n",
        "import gc\n",
        "out_dir = os.path.expanduser('~/Downloads')\n",
        "if not os.path.exists(out_dir):\n",
        "    os.makedirs(out_dir)\n",
        "\n",
        "#set to first 5 for testing\n",
        "STORETIDs1 = STORETIDs.iloc[0:, 1].dropna().to_list()\n",
        "\n",
        "df1 = pd.DataFrame()\n",
        "\n",
        "for station in STORETIDs1:\n",
        "  #for yr in years:\n",
        "    print(station)\n",
        "    filteredBuffer = ee.FeatureCollection(ptBuffer.filter(ee.Filter.eq('STORETID', station)))\n",
        "\n",
        "    #filter S2A by the filtered buffer and apply atm corr\n",
        "    S2A_filt = FC_S2A.filterBounds(filteredBuffer)\n",
        "    Rrs_S2A = S2A_filt.map(MAIN_S2A).sort('system:time_start')\n",
        "    # print(Rrs_S2A.size().getInfo())\n",
        "\n",
        "    Rrs_S2A_bands = Rrs_S2A \\\n",
        "      .select(['B1','B2','B3','B4','B5','B6','B7', 'B8', 'B8A'])\n",
        "\n",
        "    # #filter S2B by the filtered buffer and apply atm corr\n",
        "    S2B_filt = FC_S2B.filterBounds(filteredBuffer)\n",
        "    Rrs_S2B = S2B_filt.map(MAIN_S2B).sort('system:time_start')\n",
        "\n",
        "    Rrs_S2B_bands = Rrs_S2B \\\n",
        "      .select(['B1','B2','B3','B4','B5','B6','B7', 'B8', 'B8A'])\n",
        "\n",
        "    #combine atm corr FCs\n",
        "    Rrs_combined = Rrs_S2A_bands.merge(Rrs_S2B_bands).sort('system:time_start')\n",
        "    # print(Rrs_combined.size().getInfo())\n",
        "\n",
        "    out_landsat_stats = os.path.join(out_dir, 'MAIN_S2_lakes_' + str(station) + '_' + '.csv')\n",
        "    zonalstats_out = geemap.zonal_statistics(Rrs_combined, filteredBuffer, out_landsat_stats, statistics_type='MEDIAN', scale=10, crs='EPSG:4326', return_fc=True)\n",
        "    df2 = geemap.ee_to_geopandas(zonalstats_out)\n",
        "    # df2 = df2.melt(['STORETID', 'COUNT_STOR', 'MEAN_Latit', 'MEAN_Longi'], var_name = \"imageID\", value_name = \"values\")\n",
        "    df1 = pd.concat([df1,df2])\n",
        "\n",
        "    print(\"Complete\")\n",
        "\n",
        "output_filepath = os.path.join(out_dir, 'MAIN_S2_secchilakes_stats.csv')\n",
        "df1.to_csv(output_filepath)"
      ]
    }
  ],
  "metadata": {
    "colab": {
      "provenance": []
    },
    "kernelspec": {
      "display_name": "Python 3",
      "name": "python3"
    },
    "language_info": {
      "name": "python"
    }
  },
  "nbformat": 4,
  "nbformat_minor": 0
}