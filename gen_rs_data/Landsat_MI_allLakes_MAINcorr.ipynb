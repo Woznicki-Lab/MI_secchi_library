{
  "cells": [
    {
      "cell_type": "markdown",
      "metadata": {
        "id": "nfy33vANGC7W"
      },
      "source": [
        "# Loading Libraries"
      ]
    },
    {
      "cell_type": "markdown",
      "metadata": {
        "id": "ZG4GV-RPGEWA"
      },
      "source": [
        "Connect to Earth engine, import packages."
      ]
    },
    {
      "cell_type": "code",
      "execution_count": null,
      "metadata": {
        "id": "M_zIeIdyEKRf"
      },
      "outputs": [],
      "source": [
        "import ee\n",
        "!pip install geopandas geemap geehydro\n",
        "import geemap\n",
        "import folium\n",
        "import os\n",
        "import geehydro\n",
        "\n",
        "try:\n",
        "        ee.Initialize()\n",
        "except Exception as e:\n",
        "        ee.Authenticate()\n",
        "        ee.Initialize(project='ccri-chla-modeling')\n",
        "\n",
        "# from google.colab import drive\n",
        "# drive.mount('/content/drive')\n",
        "# out_dir = os.path.expanduser('/content/drive/test')\n"
      ]
    },
    {
      "cell_type": "markdown",
      "metadata": {
        "id": "Rq164umiuoYL"
      },
      "source": [
        "Import assets from gee"
      ]
    },
    {
      "cell_type": "code",
      "execution_count": null,
      "metadata": {
        "id": "yYlQVGCruatr",
        "collapsed": true
      },
      "outputs": [],
      "source": [
        "## shapefile (STORETID) table as csv\n",
        "from google.colab import files\n",
        "uploaded = files.upload()\n",
        "import pandas as pd\n",
        "import io\n",
        "\n",
        "#assets from GEE\n",
        "LakePts = ee.FeatureCollection(\"users/greeneji/LAGOS_MI_Lakes_4ha_Points_WGS84\")\n",
        "\n",
        "lagoslakei = pd.read_csv(io.BytesIO(uploaded['LAGOS_MI_Lakes_4ha_Points_WGS84.csv']))\n",
        "lagoslakeid = lagoslakei.iloc[0:2000, 13].dropna().to_list()\n",
        "# print(lagoslakeid)\n",
        "# hu12_file = pd.read_csv(io.BytesIO(uploaded['hu12_zones.csv']))\n",
        "# hu12_zon = hu12_file.iloc[0:, 0].dropna().to_list()"
      ]
    },
    {
      "cell_type": "markdown",
      "metadata": {
        "id": "E4c2Br0rcIlJ"
      },
      "source": [
        "\n",
        "\n",
        "# MAIN Atmospheric Correction"
      ]
    },
    {
      "cell_type": "markdown",
      "metadata": {
        "id": "JFMqL1_ZcGEp"
      },
      "source": [
        "Page, B.P., Olmanson, L.G. and Mishra, D.R., 2019. A harmonized image processing workflow using Sentinel-2/MSI and Landsat-8/OLI for mapping water clarity in optically variable lake systems. Remote Sensing of Environment, 231, p.111284.\n",
        "\n",
        "https://github.com/Nateme16/geo-aquawatch-water-quality/blob/main/Atmospheric%20corrections/main_L8L9.ipynb"
      ]
    },
    {
      "cell_type": "code",
      "execution_count": null,
      "metadata": {
        "id": "AoXuGHrCOb5E",
        "colab": {
          "base_uri": "https://localhost:8080/",
          "height": 17
        },
        "outputId": "46b1a318-ccd1-4158-8f25-4d850c2eb385"
      },
      "outputs": [
        {
          "output_type": "display_data",
          "data": {
            "text/plain": [
              "<IPython.core.display.HTML object>"
            ],
            "text/html": [
              "\n",
              "            <style>\n",
              "                .geemap-dark {\n",
              "                    --jp-widgets-color: white;\n",
              "                    --jp-widgets-label-color: white;\n",
              "                    --jp-ui-font-color1: white;\n",
              "                    --jp-layout-color2: #454545;\n",
              "                    background-color: #383838;\n",
              "                }\n",
              "                    \n",
              "                .geemap-dark .jupyter-button {\n",
              "                    --jp-layout-color3: #383838;\n",
              "                }\n",
              "                \n",
              "                .geemap-colab {\n",
              "                    background-color: var(--colab-primary-surface-color, white);\n",
              "                }\n",
              "                    \n",
              "                .geemap-colab .jupyter-button {\n",
              "                    --jp-layout-color3: var(--colab-primary-surface-color, white);\n",
              "                }\n",
              "            </style>\n",
              "            "
            ]
          },
          "metadata": {}
        }
      ],
      "source": [
        "# MAIN Atmospheric Correction\n",
        "\n",
        "def atm_corr(img):\n",
        "\n",
        "    footprint = img.geometry()\n",
        "\n",
        "    # DEM\n",
        "    dem = ee.Image('USGS/SRTMGL1_003').clip(footprint)\n",
        "    DEM_OLI = ee.Image(1);\n",
        "\n",
        "\n",
        "    # ozone\n",
        "    # DU_OLI = ee.Image(ozone.filterBounds(footprint).filter(ee.Filter.calendarRange(startMonth, endMonth, 'month')).filter(ee.Filter.calendarRange(startYear, endYear, 'year')).mean())\n",
        "\n",
        "    DU_OLI = ee.Image(300); # ozone @ sea level\n",
        "\n",
        "    # Julian Day\n",
        "    imgDate_OLI = ee.Date(img.get('system:time_start'))\n",
        "    FOY_OLI = ee.Date.fromYMD(imgDate_OLI.get('year'),1,1)\n",
        "    JD_OLI = imgDate_OLI.difference(FOY_OLI,'day').int().add(1)\n",
        "\n",
        "    # Earth-Sun distance\n",
        "    d_OLI = ee.Image.constant(img.get('EARTH_SUN_DISTANCE'))\n",
        "\n",
        "    # Sun elevation\n",
        "    SunEl_OLI = ee.Image.constant(img.get('SUN_ELEVATION'))\n",
        "\n",
        "    # Sun azimuth\n",
        "    SunAz_OLI = img.select('SAA').multiply(ee.Image(0.01))\n",
        "\n",
        "    # Satellite zenith\n",
        "    SatZe_OLI = img.select('VZA').multiply(ee.Image(0.01))\n",
        "    cosdSatZe_OLI = (SatZe_OLI).multiply(pi.divide(ee.Image(180))).cos()\n",
        "    sindSatZe_OLI = (SatZe_OLI).multiply(pi.divide(ee.Image(180))).sin()\n",
        "\n",
        "    # Satellite azimuth\n",
        "    SatAz_OLI = img.select('VAA').multiply(ee.Image(0.01))\n",
        "\n",
        "    # Sun zenith\n",
        "    SunZe_OLI = img.select('SZA').multiply(ee.Image(0.01))\n",
        "    cosdSunZe_OLI = SunZe_OLI.multiply(pi.divide(ee.Image.constant(180))).cos() # in degrees\n",
        "    sindSunZe_OLI = SunZe_OLI.multiply(pi.divide(ee.Image(180))).sin() # in degrees\n",
        "\n",
        "    # Relative azimuth\n",
        "    RelAz_OLI = ee.Image(SunAz_OLI)\n",
        "    cosdRelAz_OLI = RelAz_OLI.multiply(pi.divide(ee.Image(180))).cos()\n",
        "\n",
        "    # Pressure calculation\n",
        "    P_OLI = ee.Image(101325).multiply(ee.Image(1).subtract(ee.Image(0.0000225577).multiply(DEM_OLI)).pow(5.25588)).multiply(0.01)\n",
        "    Po_OLI = ee.Image(1013.25)\n",
        "\n",
        "    # Radiometric Calibration\n",
        "    # define bands to be converted to radiance\n",
        "    bands_OLI = ['B1','B2','B3','B4','B5','B6','B7']\n",
        "\n",
        "    # radiance_mult_bands\n",
        "    rad_mult_OLI = ee.Image(ee.Array([ee.Image(img.get('RADIANCE_MULT_BAND_1')),\n",
        "                        ee.Image(img.get('RADIANCE_MULT_BAND_2')),\n",
        "                        ee.Image(img.get('RADIANCE_MULT_BAND_3')),\n",
        "                        ee.Image(img.get('RADIANCE_MULT_BAND_4')),\n",
        "                        ee.Image(img.get('RADIANCE_MULT_BAND_5')),\n",
        "                        ee.Image(img.get('RADIANCE_MULT_BAND_6')),\n",
        "                        ee.Image(img.get('RADIANCE_MULT_BAND_7'))]\n",
        "                        )).toArray(1)\n",
        "\n",
        "    # radiance add band\n",
        "    rad_add_OLI = ee.Image(ee.Array([ee.Image(img.get('RADIANCE_ADD_BAND_1')),\n",
        "                        ee.Image(img.get('RADIANCE_ADD_BAND_2')),\n",
        "                        ee.Image(img.get('RADIANCE_ADD_BAND_3')),\n",
        "                        ee.Image(img.get('RADIANCE_ADD_BAND_4')),\n",
        "                        ee.Image(img.get('RADIANCE_ADD_BAND_5')),\n",
        "                        ee.Image(img.get('RADIANCE_ADD_BAND_6')),\n",
        "                        ee.Image(img.get('RADIANCE_ADD_BAND_7'))]\n",
        "                        )).toArray(1)\n",
        "\n",
        "    # create an empty image to save new radiance bands to\n",
        "    imgArr_OLI = img.select(bands_OLI).toArray().toArray(1);\n",
        "    Ltoa_OLI = imgArr_OLI.multiply(rad_mult_OLI).add(rad_add_OLI)\n",
        "\n",
        "    # print(Ltoa_OLI)\n",
        "\n",
        "    # esun (extra-terrestrial solar irradiance) Units = mW cm-2 um-1\n",
        "    ESUN_OLI = ee.Image.constant(197.24790954589844).\\\n",
        "      addBands(ee.Image.constant(201.98426818847656)).\\\n",
        "      addBands(ee.Image.constant(186.12677001953125)).\\\n",
        "      addBands(ee.Image.constant(156.95257568359375)).\\\n",
        "      addBands(ee.Image.constant(96.04714965820312)).\\\n",
        "      addBands(ee.Image.constant(23.8833221450863)).\\\n",
        "      addBands(ee.Image.constant(8.04995873449635)).toArray().toArray(1)\n",
        "    ESUN_OLI = ESUN_OLI.multiply(ee.Image(1))\n",
        "\n",
        "    ESUNImg_OLI = ESUN_OLI.arrayProject([0]).arrayFlatten([bands_OLI])\n",
        "\n",
        "    # Ozone Correction\n",
        "    # Ozone coefficients https://www.arm.gov/publications/tech_reports/doe-sc-arm-tr-129.pdf?id=811 (Appendix A) by band center (lambda)\n",
        "    koz_OLI = ee.Image.constant(0.0039).addBands(ee.Image.constant(0.0218)).\\\n",
        "      addBands(ee.Image.constant(0.1078)).addBands(ee.Image.constant(0.0608)).addBands(ee.Image.constant(0.0019)).addBands(ee.Image.constant(0)).addBands(ee.Image.constant(0)).toArray().toArray(1)\n",
        "\n",
        "    # Calculate ozone optical thickness\n",
        "    Toz_OLI = koz_OLI.multiply(DU_OLI).divide(ee.Image.constant(1000));\n",
        "\n",
        "    # Calculate TOA radiance in the absense of ozone\n",
        "    Lt_OLI = Ltoa_OLI.multiply(((Toz_OLI)).multiply((ee.Image.constant(1).divide(cosdSunZe_OLI)).add(ee.Image.constant(1).divide(cosdSatZe_OLI))).exp())\n",
        "\n",
        "    # Rayleigh optical thickness\n",
        "    bandCenter_OLI = ee.Image(443).divide(1000).addBands(ee.Image(483).divide(1000)).addBands(ee.Image(561).divide(1000)).addBands(ee.Image(655).divide(1000)).addBands(ee.Image(865).divide(1000)).addBands(ee.Image(1609).divide(1000)).addBands(ee.Number(2201).divide(1000)).toArray().toArray(1)\n",
        "\n",
        "     # create an empty image to save new Tr values to\n",
        "    Tr_OLI = (P_OLI.divide(Po_OLI)).multiply(ee.Image(0.008569).multiply(bandCenter_OLI.pow(-4))).multiply((ee.Image(1).add(ee.Image(0.0113).multiply(bandCenter_OLI.pow(-2))).add(ee.Image(0.00013).multiply(bandCenter_OLI.pow(-4)))))\n",
        "\n",
        "    # Fresnel Reflection\n",
        "    # Specular reflection (s- and p- polarization states)\n",
        "    theta_V_OLI = ee.Image(0.0000000001)\n",
        "    sin_theta_j_OLI = sindSunZe_OLI.divide(ee.Image(1.333))\n",
        "\n",
        "    theta_j_OLI = sin_theta_j_OLI.asin().multiply(ee.Image(180).divide(pi))\n",
        "\n",
        "    theta_SZ_OLI = SunZe_OLI\n",
        "\n",
        "    R_theta_SZ_s_OLI = (((theta_SZ_OLI.multiply(pi.divide(ee.Image(180)))).subtract(theta_j_OLI.multiply(pi.divide(ee.Image(180))))).sin().pow(2)).divide((((theta_SZ_OLI.multiply(pi.divide(ee.Image(180)))).add(theta_j_OLI.multiply(pi.divide(ee.Image(180))))).sin().pow(2)))\n",
        "\n",
        "    R_theta_V_s_OLI = ee.Image(0.0000000001)\n",
        "\n",
        "    R_theta_SZ_p_OLI = (((theta_SZ_OLI.multiply(pi.divide(180))).subtract(theta_j_OLI.multiply(pi.divide(180)))).tan().pow(2)).divide((((theta_SZ_OLI.multiply(pi.divide(180))).add(theta_j_OLI.multiply(pi.divide(180)))).tan().pow(2)))\n",
        "\n",
        "    R_theta_V_p_OLI = ee.Image(0.0000000001)\n",
        "\n",
        "    R_theta_SZ_OLI = ee.Image(0.5).multiply(R_theta_SZ_s_OLI.add(R_theta_SZ_p_OLI))\n",
        "\n",
        "    R_theta_V_OLI = ee.Image(0.5).multiply(R_theta_V_s_OLI.add(R_theta_V_p_OLI))\n",
        "\n",
        "    # Rayleigh scattering phase function\n",
        "    # Sun-sensor geometry\n",
        "\n",
        "    theta_neg_OLI = ((cosdSunZe_OLI.multiply(ee.Image(-1))).multiply(cosdSatZe_OLI)).subtract((sindSunZe_OLI).multiply(sindSatZe_OLI).multiply(cosdRelAz_OLI))\n",
        "\n",
        "    theta_neg_inv_OLI = theta_neg_OLI.acos().multiply(ee.Image(180).divide(pi))\n",
        "\n",
        "    theta_pos_OLI = (cosdSunZe_OLI.multiply(cosdSatZe_OLI)).subtract(sindSunZe_OLI.multiply(sindSatZe_OLI).multiply(cosdRelAz_OLI))\n",
        "\n",
        "    theta_pos_inv_OLI = theta_pos_OLI.acos().multiply(ee.Image(180).divide(pi))\n",
        "\n",
        "    cosd_tni_OLI = theta_neg_inv_OLI.multiply(pi.divide(180)).cos() # in degrees\n",
        "\n",
        "    cosd_tpi_OLI = theta_pos_inv_OLI.multiply(pi.divide(180)).cos() # in degrees\n",
        "\n",
        "    Pr_neg_OLI = ee.Image(0.75).multiply((ee.Image(1).add(cosd_tni_OLI.pow(2))))\n",
        "\n",
        "    Pr_pos_OLI = ee.Image(0.75).multiply((ee.Image(1).add(cosd_tpi_OLI.pow(2))))\n",
        "\n",
        "    # Rayleigh scattering phase function\n",
        "    Pr_OLI = Pr_neg_OLI.add((R_theta_SZ_OLI.add(R_theta_V_OLI)).multiply(Pr_pos_OLI));\n",
        "\n",
        "    # Calulate Lr,\n",
        "    denom_OLI = ee.Image(4).multiply(pi).multiply(cosdSatZe_OLI)\n",
        "    Lr_OLI = (ESUN_OLI.multiply(Tr_OLI)).multiply(Pr_OLI.divide(denom_OLI))\n",
        "\n",
        "    # Rayleigh corrected radiance\n",
        "    Lrc_OLI = (Lt_OLI.divide(ee.Image(10))).subtract(Lr_OLI)\n",
        "    LrcImg_OLI = Lrc_OLI.arrayProject([0]).arrayFlatten([bands_OLI])\n",
        "\n",
        "    # Rayleigh corrected reflectance\n",
        "    prc_OLI = Lrc_OLI.multiply(pi).multiply(d_OLI.pow(2)).divide(ESUN_OLI.multiply(cosdSunZe_OLI))\n",
        "    prcImg_OLI = prc_OLI.arrayProject([0]).arrayFlatten([bands_OLI])\n",
        "    rhorc = prc_OLI.arrayProject([0]).arrayFlatten([bands_OLI])\n",
        "\n",
        "    # Aerosol Correction\n",
        "    # Bands in nm\n",
        "    bands_nm_OLI = ee.Image(443).addBands(ee.Image(483)).addBands(ee.Image(561)).addBands(ee.Image(655)).addBands(ee.Image(865)).addBands(ee.Image(0)).addBands(ee.Image(0)).toArray().toArray(1)\n",
        "\n",
        "    # Lam in SWIR bands\n",
        "    Lam_6_OLI = LrcImg_OLI.select('B6')\n",
        "    Lam_7_OLI = LrcImg_OLI.select('B7')\n",
        "\n",
        "    # Calculate aerosol type\n",
        "    eps_OLI = (((((Lam_7_OLI).divide(ESUNImg_OLI.select('B7'))).log()).subtract(((Lam_6_OLI).divide(ESUNImg_OLI.select('B6'))).log())).divide(ee.Image(2201).subtract(ee.Image(1609)))) #.multiply(water_mask)\n",
        "\n",
        "    # Calculate multiple scattering of aerosols for each band\n",
        "    Lam_OLI = (Lam_7_OLI).multiply(((ESUN_OLI).divide(ESUNImg_OLI.select('B7')))).multiply((eps_OLI.multiply(ee.Image(-1))).multiply((bands_nm_OLI.divide(ee.Image(2201)))).exp())\n",
        "\n",
        "    # diffuse transmittance\n",
        "    trans_OLI = Tr_OLI.multiply(ee.Image(-1)).divide(ee.Image(2)).multiply(ee.Image(1).divide(cosdSatZe_OLI)).exp()\n",
        "\n",
        "    # Compute water-leaving radiance\n",
        "    Lw_OLI = Lrc_OLI.subtract(Lam_OLI).divide(trans_OLI)\n",
        "\n",
        "    # water-leaving reflectance\n",
        "    pw_OLI = (Lw_OLI.multiply(pi).multiply(d_OLI.pow(2)).divide(ESUN_OLI.multiply(cosdSunZe_OLI)))\n",
        "    pwImg_OLI = pw_OLI.arrayProject([0]).arrayFlatten([bands_OLI])\n",
        "\n",
        "    # Rrs\n",
        "    Rrs = (pw_OLI.divide(pi).arrayProject([0]).arrayFlatten([bands_OLI]).slice(0,5)).multiply(mask)\n",
        "    Rrs = Rrs.updateMask(Rrs.gt(0));\n",
        "\n",
        "    return Rrs.set('system:time_start',img.get('system:time_start'))\n"
      ]
    },
    {
      "cell_type": "markdown",
      "metadata": {
        "id": "redlzG0FrfdM"
      },
      "source": [
        "# Secchi Code"
      ]
    },
    {
      "cell_type": "markdown",
      "metadata": {
        "id": "kT-z9o42sL6s"
      },
      "source": [
        "## Creating mask functions"
      ]
    },
    {
      "cell_type": "markdown",
      "metadata": {
        "id": "JQHLY_5HsPas"
      },
      "source": [
        "These functions mask clouds based on the QA_PIXEL band (maskL8sr), select pixels that are >= 75% water (jrcMask), and a 30m buffer around roads to mask bridges (roadMask)"
      ]
    },
    {
      "cell_type": "code",
      "execution_count": null,
      "metadata": {
        "id": "aTOTxSORaD63",
        "colab": {
          "base_uri": "https://localhost:8080/",
          "height": 17
        },
        "outputId": "29a52999-baf1-41b0-d0d4-cdbf9f0843e4"
      },
      "outputs": [
        {
          "output_type": "display_data",
          "data": {
            "text/plain": [
              "<IPython.core.display.HTML object>"
            ],
            "text/html": [
              "\n",
              "            <style>\n",
              "                .geemap-dark {\n",
              "                    --jp-widgets-color: white;\n",
              "                    --jp-widgets-label-color: white;\n",
              "                    --jp-ui-font-color1: white;\n",
              "                    --jp-layout-color2: #454545;\n",
              "                    background-color: #383838;\n",
              "                }\n",
              "                    \n",
              "                .geemap-dark .jupyter-button {\n",
              "                    --jp-layout-color3: #383838;\n",
              "                }\n",
              "                \n",
              "                .geemap-colab {\n",
              "                    background-color: var(--colab-primary-surface-color, white);\n",
              "                }\n",
              "                    \n",
              "                .geemap-colab .jupyter-button {\n",
              "                    --jp-layout-color3: var(--colab-primary-surface-color, white);\n",
              "                }\n",
              "            </style>\n",
              "            "
            ]
          },
          "metadata": {}
        }
      ],
      "source": [
        "#Creating mask functions\n",
        "# function to mask out clouds\n",
        "def maskL8sr(image):\n",
        "  # Bits 2, 3, and 4, are cirrus, cloud  and cloudshadow, respectively.\n",
        "  cloudShadowBitMask = (1 << 3)\n",
        "  cloudsBitMask = (1 << 4)\n",
        "  cirrusBitMask = (1 << 2)\n",
        "  # Get the pixel QA band.\n",
        "  qa = image.select('QA_PIXEL')\n",
        "  # Both flags should be set to zero, indicating clear conditions.\n",
        "  mask = qa.bitwiseAnd(cloudShadowBitMask).eq(0) \\\n",
        "    .And(qa.bitwiseAnd(cloudsBitMask).eq(0)).And(qa.bitwiseAnd(cirrusBitMask).eq(0))\n",
        "  return image.updateMask(mask)\n",
        "\n",
        "# jrc water occurrence mask\n",
        "def jrcMask(image):\n",
        "  jrc = ee.Image('JRC/GSW1_0/GlobalSurfaceWater')\n",
        "  # select only water occurence\n",
        "  occurrence = jrc.select('occurrence')\n",
        "  # selectonly water occurences of greater than 75%\n",
        "  water_mask = occurrence.mask(occurrence.gt(50))\n",
        "  return image.updateMask(water_mask)\n",
        "\n",
        "#Creating 30m road buffer mask\n",
        "def roadMask(image):\n",
        "  roads = ee.FeatureCollection(\"TIGER/2016/Roads\")\n",
        "  # 30m road buffer\n",
        "  def bufferPoly30(feature):\n",
        "    return feature.buffer(30)\n",
        "  Buffer = roads.map(bufferPoly30)\n",
        "    # Convert 'areasqkm' property from string to number.\n",
        "  def func_uem(feature):\n",
        "        num = ee.Number.parse(ee.String(feature.get('linearid')))\n",
        "        return feature.set('linearid', num)\n",
        "  roadBuffer = Buffer.map(func_uem)\n",
        "  roadRaster = roadBuffer.reduceToImage(['linearid'], ee.Reducer.first())\n",
        "  # create an image with a constant value of one to apply roadmask to\n",
        "  blank = ee.Image.constant(1)\n",
        "  inverseMask = blank.updateMask(roadRaster)\n",
        "  # get reverse mask to have everything but roads kept\n",
        "  mask = inverseMask.mask().Not()\n",
        "  return image.updateMask(mask)"
      ]
    },
    {
      "cell_type": "markdown",
      "metadata": {
        "id": "v9F102JStO2j"
      },
      "source": [
        "Create filters to select summer dates"
      ]
    },
    {
      "cell_type": "code",
      "execution_count": null,
      "metadata": {
        "id": "2aZPSaXhaljV",
        "colab": {
          "base_uri": "https://localhost:8080/",
          "height": 17
        },
        "outputId": "f2f0e8da-f1db-459c-e193-6b18d1865882"
      },
      "outputs": [
        {
          "output_type": "display_data",
          "data": {
            "text/plain": [
              "<IPython.core.display.HTML object>"
            ],
            "text/html": [
              "\n",
              "            <style>\n",
              "                .geemap-dark {\n",
              "                    --jp-widgets-color: white;\n",
              "                    --jp-widgets-label-color: white;\n",
              "                    --jp-ui-font-color1: white;\n",
              "                    --jp-layout-color2: #454545;\n",
              "                    background-color: #383838;\n",
              "                }\n",
              "                    \n",
              "                .geemap-dark .jupyter-button {\n",
              "                    --jp-layout-color3: #383838;\n",
              "                }\n",
              "                \n",
              "                .geemap-colab {\n",
              "                    background-color: var(--colab-primary-surface-color, white);\n",
              "                }\n",
              "                    \n",
              "                .geemap-colab .jupyter-button {\n",
              "                    --jp-layout-color3: var(--colab-primary-surface-color, white);\n",
              "                }\n",
              "            </style>\n",
              "            "
            ]
          },
          "metadata": {}
        }
      ],
      "source": [
        "sum13 = ee.Filter.date('2013-05-01','2013-09-30')\n",
        "sum14 = ee.Filter.date('2014-05-01','2014-09-30')\n",
        "sum15 = ee.Filter.date('2015-05-01','2015-09-30')\n",
        "sum16 = ee.Filter.date('2016-05-01','2016-09-30')\n",
        "sum17 = ee.Filter.date('2017-05-01','2017-09-30')\n",
        "sum18 = ee.Filter.date('2018-05-01','2018-09-30')\n",
        "sum19 = ee.Filter.date('2019-05-01','2019-09-30')\n",
        "sum20 = ee.Filter.date('2020-05-01','2020-09-30')\n",
        "sum21 = ee.Filter.date('2021-05-01','2021-09-30')\n",
        "sum22 = ee.Filter.date('2022-05-01','2022-09-30')\n",
        "sum23 = ee.Filter.date('2023-05-01','2023-09-30')\n",
        "Summers = ee.Filter.Or(sum13, sum14, sum15, sum16, sum17, sum18, sum19, sum20, sum21, sum22, sum23)"
      ]
    },
    {
      "cell_type": "markdown",
      "source": [
        "## Buffer function for points"
      ],
      "metadata": {
        "id": "8IDwLJsJXfzW"
      }
    },
    {
      "cell_type": "code",
      "execution_count": null,
      "metadata": {
        "id": "Fx3TA8azb2Ke",
        "colab": {
          "base_uri": "https://localhost:8080/",
          "height": 17
        },
        "outputId": "d7ccb307-670c-42f0-cd82-6e1e2c5ffa51"
      },
      "outputs": [
        {
          "output_type": "display_data",
          "data": {
            "text/plain": [
              "<IPython.core.display.HTML object>"
            ],
            "text/html": [
              "\n",
              "            <style>\n",
              "                .geemap-dark {\n",
              "                    --jp-widgets-color: white;\n",
              "                    --jp-widgets-label-color: white;\n",
              "                    --jp-ui-font-color1: white;\n",
              "                    --jp-layout-color2: #454545;\n",
              "                    background-color: #383838;\n",
              "                }\n",
              "                    \n",
              "                .geemap-dark .jupyter-button {\n",
              "                    --jp-layout-color3: #383838;\n",
              "                }\n",
              "                \n",
              "                .geemap-colab {\n",
              "                    background-color: var(--colab-primary-surface-color, white);\n",
              "                }\n",
              "                    \n",
              "                .geemap-colab .jupyter-button {\n",
              "                    --jp-layout-color3: var(--colab-primary-surface-color, white);\n",
              "                }\n",
              "            </style>\n",
              "            "
            ]
          },
          "metadata": {}
        }
      ],
      "source": [
        "#create point buffer for every pt\n",
        "def wrap_buffer(pt_collection, radius):\n",
        "  def bufferPoints(pt):\n",
        "    pt_buffer = pt.buffer(radius).bounds()\n",
        "    return pt_buffer\n",
        "  return pt_collection.map(lambda ptfeat: bufferPoints(ptfeat))\n",
        "\n",
        "ptBuffer = wrap_buffer(LakePts, 30)"
      ]
    },
    {
      "cell_type": "code",
      "execution_count": null,
      "metadata": {
        "id": "ZB_m4BEP-J_w",
        "colab": {
          "base_uri": "https://localhost:8080/",
          "height": 17
        },
        "outputId": "64f6f1fa-c0cf-4946-e2da-84be98b66cdd"
      },
      "outputs": [
        {
          "output_type": "display_data",
          "data": {
            "text/plain": [
              "<IPython.core.display.HTML object>"
            ],
            "text/html": [
              "\n",
              "            <style>\n",
              "                .geemap-dark {\n",
              "                    --jp-widgets-color: white;\n",
              "                    --jp-widgets-label-color: white;\n",
              "                    --jp-ui-font-color1: white;\n",
              "                    --jp-layout-color2: #454545;\n",
              "                    background-color: #383838;\n",
              "                }\n",
              "                    \n",
              "                .geemap-dark .jupyter-button {\n",
              "                    --jp-layout-color3: #383838;\n",
              "                }\n",
              "                \n",
              "                .geemap-colab {\n",
              "                    background-color: var(--colab-primary-surface-color, white);\n",
              "                }\n",
              "                    \n",
              "                .geemap-colab .jupyter-button {\n",
              "                    --jp-layout-color3: var(--colab-primary-surface-color, white);\n",
              "                }\n",
              "            </style>\n",
              "            "
            ]
          },
          "metadata": {}
        }
      ],
      "source": [
        "# Filter landsat 8-9 collection by PATH and ROW\n",
        "# geometry = ee.Geometry.Point([22.7876 ,44.16517])\n",
        "geometry = ptBuffer\n",
        "JRC = ee.Image(\"JRC/GSW1_3/GlobalSurfaceWater\")\n",
        "mask = JRC.select('occurrence').gt(50)\n",
        "\n",
        "# oliCloudPerc = 50\n",
        "\n",
        "target_image_number = 1"
      ]
    },
    {
      "cell_type": "markdown",
      "metadata": {
        "id": "atHPQ7d6O9h-"
      },
      "source": [
        "## Import collections\n"
      ]
    },
    {
      "cell_type": "code",
      "execution_count": null,
      "metadata": {
        "id": "_oV_RWaa-NlY",
        "colab": {
          "base_uri": "https://localhost:8080/",
          "height": 17
        },
        "outputId": "a5e24b5e-2cc1-4395-94b8-8e592d75e6f1"
      },
      "outputs": [
        {
          "output_type": "display_data",
          "data": {
            "text/plain": [
              "<IPython.core.display.HTML object>"
            ],
            "text/html": [
              "\n",
              "            <style>\n",
              "                .geemap-dark {\n",
              "                    --jp-widgets-color: white;\n",
              "                    --jp-widgets-label-color: white;\n",
              "                    --jp-ui-font-color1: white;\n",
              "                    --jp-layout-color2: #454545;\n",
              "                    background-color: #383838;\n",
              "                }\n",
              "                    \n",
              "                .geemap-dark .jupyter-button {\n",
              "                    --jp-layout-color3: #383838;\n",
              "                }\n",
              "                \n",
              "                .geemap-colab {\n",
              "                    background-color: var(--colab-primary-surface-color, white);\n",
              "                }\n",
              "                    \n",
              "                .geemap-colab .jupyter-button {\n",
              "                    --jp-layout-color3: var(--colab-primary-surface-color, white);\n",
              "                }\n",
              "            </style>\n",
              "            "
            ]
          },
          "metadata": {}
        }
      ],
      "source": [
        "# Import Collections\n",
        "ozone = ee.ImageCollection('TOMS/MERGED')\n",
        "pi = ee.Image(3.141592);"
      ]
    },
    {
      "cell_type": "code",
      "execution_count": null,
      "metadata": {
        "id": "0KkiohCF-8gj",
        "colab": {
          "base_uri": "https://localhost:8080/",
          "height": 17
        },
        "outputId": "e5a03aa3-1a1f-4c54-c488-6daa90a46fc1"
      },
      "outputs": [
        {
          "output_type": "display_data",
          "data": {
            "text/plain": [
              "<IPython.core.display.HTML object>"
            ],
            "text/html": [
              "\n",
              "            <style>\n",
              "                .geemap-dark {\n",
              "                    --jp-widgets-color: white;\n",
              "                    --jp-widgets-label-color: white;\n",
              "                    --jp-ui-font-color1: white;\n",
              "                    --jp-layout-color2: #454545;\n",
              "                    background-color: #383838;\n",
              "                }\n",
              "                    \n",
              "                .geemap-dark .jupyter-button {\n",
              "                    --jp-layout-color3: #383838;\n",
              "                }\n",
              "                \n",
              "                .geemap-colab {\n",
              "                    background-color: var(--colab-primary-surface-color, white);\n",
              "                }\n",
              "                    \n",
              "                .geemap-colab .jupyter-button {\n",
              "                    --jp-layout-color3: var(--colab-primary-surface-color, white);\n",
              "                }\n",
              "            </style>\n",
              "            "
            ]
          },
          "metadata": {}
        }
      ],
      "source": [
        "# filter landsat 8 and 9 scenes by path / row\n",
        "FC_OLI = ee.ImageCollection(\"LANDSAT/LC08/C02/T1\") \\\n",
        "                .filterMetadata('CLOUD_COVER', \"less_than\", 30) \\\n",
        "                .filter(Summers) \\\n",
        "                .filterBounds(LakePts) \\\n",
        "                .map(maskL8sr) \\\n",
        "                .map(jrcMask) \\\n",
        "                .map(roadMask) \\\n",
        "                .sort('system:time_start')\n",
        "\n",
        "FC_OLI2 = ee.ImageCollection(\"LANDSAT/LC09/C02/T1\") \\\n",
        "                .filterMetadata('CLOUD_COVER', \"less_than\", 30) \\\n",
        "                .filter(Summers) \\\n",
        "                .filterBounds(LakePts) \\\n",
        "                .map(maskL8sr) \\\n",
        "                .map(jrcMask) \\\n",
        "                .map(roadMask) \\\n",
        "                .sort('system:time_start')\n",
        "\n",
        "FC_combined = FC_OLI.merge(FC_OLI2).sort('system:time_start')"
      ]
    },
    {
      "cell_type": "markdown",
      "source": [
        "# zonal stats by county_zon"
      ],
      "metadata": {
        "id": "NmpFkjoIZhk4"
      }
    },
    {
      "cell_type": "code",
      "source": [
        "from geemap.geemap import ee_to_gdf\n",
        "import gc\n",
        "out_dir = os.path.expanduser('~/Downloads')\n",
        "if not os.path.exists(out_dir):\n",
        "    os.makedirs(out_dir)\n",
        "\n",
        "years = list(range(2013, 2024, 1))\n",
        "months = list(range(5,10,1))\n",
        "\n",
        "df1 = pd.DataFrame()\n",
        "\n",
        "\n",
        "for idx, lakei in enumerate(lagoslakeid):\n",
        "    print(idx, lakei)\n",
        "    filteredBuffer = ee.FeatureCollection(ptBuffer.filter(ee.Filter.eq('lagoslakei', lakei)))\n",
        "    # print(filteredBuffer.size().getInfo())\n",
        "\n",
        "    datasetBands_filt = FC_combined.filterBounds(filteredBuffer)\n",
        "    # print(datasetBands_filt.getInfo())\n",
        "\n",
        "    Rrs = datasetBands_filt.map(atm_corr).sort('system:time_start')\n",
        "\n",
        "    #select bands\n",
        "    RrsSelect = Rrs.select(['B1', 'B2', 'B3', 'B4', 'B5'])\n",
        "\n",
        "    out_landsat_stats = os.path.join(out_dir, 'MAIN_L8_lakes_' + str(lakei) + '_' + '.csv')\n",
        "    zonalstats_out = geemap.zonal_statistics(RrsSelect, filteredBuffer, out_landsat_stats, statistics_type='MEDIAN', scale=30, return_fc=True)\n",
        "    df2 = geemap.ee_to_gdf(zonalstats_out)\n",
        "    # df2 = df2.melt(['STORETID', 'COUNT_STOR', 'MEAN_Latit', 'MEAN_Longi'], var_name = \"imageID\", value_name = \"values\")\n",
        "    df1 = pd.concat([df1,df2])\n",
        "\n",
        "    print(\"Complete\")\n",
        "\n",
        "output_filepath = os.path.join(out_dir, 'MAIN_all_lakes_zstats1_jrc50.csv')\n",
        "df1.to_csv(output_filepath)"
      ],
      "metadata": {
        "id": "A1Q34pAwZgbB"
      },
      "execution_count": null,
      "outputs": []
    }
  ],
  "metadata": {
    "colab": {
      "provenance": []
    },
    "kernelspec": {
      "display_name": "Python 3",
      "name": "python3"
    },
    "language_info": {
      "name": "python"
    }
  },
  "nbformat": 4,
  "nbformat_minor": 0
}